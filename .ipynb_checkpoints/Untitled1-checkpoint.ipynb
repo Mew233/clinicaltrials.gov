{
 "cells": [
  {
   "cell_type": "code",
   "execution_count": 50,
   "metadata": {},
   "outputs": [],
   "source": [
    "import pandas as pd\n",
    "import seaborn as sns\n",
    "import matplotlib.pyplot as pl\n",
    "from statannotations.Annotator import Annotator"
   ]
  },
  {
   "cell_type": "code",
   "execution_count": 51,
   "metadata": {},
   "outputs": [],
   "source": [
    "prediction = pd.read_csv(\"../synergyy/results/predicts_transynergy_liu_Customized.txt\")\n",
    "processed = pd.read_csv(\"../synergyy/results/processed_synergydf_Customized.csv\")"
   ]
  },
  {
   "cell_type": "code",
   "execution_count": 52,
   "metadata": {},
   "outputs": [],
   "source": [
    "processed.columns = ['index','drug1','drug2','cell','score']"
   ]
  },
  {
   "cell_type": "code",
   "execution_count": 53,
   "metadata": {},
   "outputs": [
    {
     "data": {
      "text/plain": [
       "0              0\n",
       "1              1\n",
       "2              2\n",
       "3              3\n",
       "4              4\n",
       "           ...  \n",
       "270317    274251\n",
       "270318    274252\n",
       "270319    274253\n",
       "270320    274254\n",
       "270321    274255\n",
       "Name: index, Length: 270322, dtype: int64"
      ]
     },
     "execution_count": 53,
     "metadata": {},
     "output_type": "execute_result"
    }
   ],
   "source": [
    "processed['index']"
   ]
  },
  {
   "cell_type": "code",
   "execution_count": 54,
   "metadata": {},
   "outputs": [
    {
     "data": {
      "text/html": [
       "<div>\n",
       "<style scoped>\n",
       "    .dataframe tbody tr th:only-of-type {\n",
       "        vertical-align: middle;\n",
       "    }\n",
       "\n",
       "    .dataframe tbody tr th {\n",
       "        vertical-align: top;\n",
       "    }\n",
       "\n",
       "    .dataframe thead th {\n",
       "        text-align: right;\n",
       "    }\n",
       "</style>\n",
       "<table border=\"1\" class=\"dataframe\">\n",
       "  <thead>\n",
       "    <tr style=\"text-align: right;\">\n",
       "      <th></th>\n",
       "      <th>Unnamed: 0</th>\n",
       "      <th>index</th>\n",
       "      <th>actuals</th>\n",
       "      <th>predicts_transynergy_liu</th>\n",
       "      <th>drug1</th>\n",
       "      <th>drug2</th>\n",
       "      <th>cell</th>\n",
       "      <th>score</th>\n",
       "      <th>_dummy</th>\n",
       "    </tr>\n",
       "  </thead>\n",
       "  <tbody>\n",
       "    <tr>\n",
       "      <td>0</td>\n",
       "      <td>0</td>\n",
       "      <td>130730.0</td>\n",
       "      <td>0.0</td>\n",
       "      <td>0.679439</td>\n",
       "      <td>9073</td>\n",
       "      <td>619</td>\n",
       "      <td>DLBCL10487</td>\n",
       "      <td>-1.0</td>\n",
       "      <td>plot</td>\n",
       "    </tr>\n",
       "    <tr>\n",
       "      <td>1</td>\n",
       "      <td>1</td>\n",
       "      <td>163330.0</td>\n",
       "      <td>0.0</td>\n",
       "      <td>0.507780</td>\n",
       "      <td>4572</td>\n",
       "      <td>322</td>\n",
       "      <td>DLBCL10517</td>\n",
       "      <td>-1.0</td>\n",
       "      <td>plot</td>\n",
       "    </tr>\n",
       "    <tr>\n",
       "      <td>2</td>\n",
       "      <td>2</td>\n",
       "      <td>25231.0</td>\n",
       "      <td>0.0</td>\n",
       "      <td>0.243483</td>\n",
       "      <td>973</td>\n",
       "      <td>16107</td>\n",
       "      <td>CTSP-B02C</td>\n",
       "      <td>-1.0</td>\n",
       "      <td>plot</td>\n",
       "    </tr>\n",
       "    <tr>\n",
       "      <td>3</td>\n",
       "      <td>3</td>\n",
       "      <td>217121.0</td>\n",
       "      <td>0.0</td>\n",
       "      <td>0.635277</td>\n",
       "      <td>11666</td>\n",
       "      <td>1259</td>\n",
       "      <td>DLBCL11486</td>\n",
       "      <td>-1.0</td>\n",
       "      <td>plot</td>\n",
       "    </tr>\n",
       "    <tr>\n",
       "      <td>4</td>\n",
       "      <td>4</td>\n",
       "      <td>196821.0</td>\n",
       "      <td>1.0</td>\n",
       "      <td>0.089015</td>\n",
       "      <td>1181</td>\n",
       "      <td>305</td>\n",
       "      <td>DLBCL10537</td>\n",
       "      <td>0.5</td>\n",
       "      <td>plot</td>\n",
       "    </tr>\n",
       "    <tr>\n",
       "      <td>...</td>\n",
       "      <td>...</td>\n",
       "      <td>...</td>\n",
       "      <td>...</td>\n",
       "      <td>...</td>\n",
       "      <td>...</td>\n",
       "      <td>...</td>\n",
       "      <td>...</td>\n",
       "      <td>...</td>\n",
       "      <td>...</td>\n",
       "    </tr>\n",
       "    <tr>\n",
       "      <td>270047</td>\n",
       "      <td>270047</td>\n",
       "      <td>4071.0</td>\n",
       "      <td>1.0</td>\n",
       "      <td>0.155330</td>\n",
       "      <td>206</td>\n",
       "      <td>281</td>\n",
       "      <td>CTSP-ACY6</td>\n",
       "      <td>0.5</td>\n",
       "      <td>plot</td>\n",
       "    </tr>\n",
       "    <tr>\n",
       "      <td>270048</td>\n",
       "      <td>270048</td>\n",
       "      <td>74053.0</td>\n",
       "      <td>0.0</td>\n",
       "      <td>0.593131</td>\n",
       "      <td>480</td>\n",
       "      <td>758</td>\n",
       "      <td>DLBCL10885</td>\n",
       "      <td>-1.0</td>\n",
       "      <td>plot</td>\n",
       "    </tr>\n",
       "    <tr>\n",
       "      <td>270049</td>\n",
       "      <td>270049</td>\n",
       "      <td>245814.0</td>\n",
       "      <td>0.0</td>\n",
       "      <td>0.274849</td>\n",
       "      <td>1259</td>\n",
       "      <td>8899</td>\n",
       "      <td>DLBCL11497</td>\n",
       "      <td>-1.0</td>\n",
       "      <td>plot</td>\n",
       "    </tr>\n",
       "    <tr>\n",
       "      <td>270050</td>\n",
       "      <td>270050</td>\n",
       "      <td>37164.0</td>\n",
       "      <td>1.0</td>\n",
       "      <td>0.469659</td>\n",
       "      <td>8875</td>\n",
       "      <td>947</td>\n",
       "      <td>DLBCL11206</td>\n",
       "      <td>0.5</td>\n",
       "      <td>plot</td>\n",
       "    </tr>\n",
       "    <tr>\n",
       "      <td>270051</td>\n",
       "      <td>270051</td>\n",
       "      <td>166201.0</td>\n",
       "      <td>0.0</td>\n",
       "      <td>0.367385</td>\n",
       "      <td>8896</td>\n",
       "      <td>975</td>\n",
       "      <td>DLBCL10960</td>\n",
       "      <td>-1.0</td>\n",
       "      <td>plot</td>\n",
       "    </tr>\n",
       "  </tbody>\n",
       "</table>\n",
       "<p>270052 rows × 9 columns</p>\n",
       "</div>"
      ],
      "text/plain": [
       "        Unnamed: 0     index  actuals  predicts_transynergy_liu  drug1  drug2  \\\n",
       "0                0  130730.0      0.0                  0.679439   9073    619   \n",
       "1                1  163330.0      0.0                  0.507780   4572    322   \n",
       "2                2   25231.0      0.0                  0.243483    973  16107   \n",
       "3                3  217121.0      0.0                  0.635277  11666   1259   \n",
       "4                4  196821.0      1.0                  0.089015   1181    305   \n",
       "...            ...       ...      ...                       ...    ...    ...   \n",
       "270047      270047    4071.0      1.0                  0.155330    206    281   \n",
       "270048      270048   74053.0      0.0                  0.593131    480    758   \n",
       "270049      270049  245814.0      0.0                  0.274849   1259   8899   \n",
       "270050      270050   37164.0      1.0                  0.469659   8875    947   \n",
       "270051      270051  166201.0      0.0                  0.367385   8896    975   \n",
       "\n",
       "              cell  score _dummy  \n",
       "0       DLBCL10487   -1.0   plot  \n",
       "1       DLBCL10517   -1.0   plot  \n",
       "2        CTSP-B02C   -1.0   plot  \n",
       "3       DLBCL11486   -1.0   plot  \n",
       "4       DLBCL10537    0.5   plot  \n",
       "...            ...    ...    ...  \n",
       "270047   CTSP-ACY6    0.5   plot  \n",
       "270048  DLBCL10885   -1.0   plot  \n",
       "270049  DLBCL11497   -1.0   plot  \n",
       "270050  DLBCL11206    0.5   plot  \n",
       "270051  DLBCL10960   -1.0   plot  \n",
       "\n",
       "[270052 rows x 9 columns]"
      ]
     },
     "execution_count": 54,
     "metadata": {},
     "output_type": "execute_result"
    }
   ],
   "source": [
    "m = pd.merge(prediction,processed,on=\"index\")\n",
    "m['_dummy'] = \"plot\"\n",
    "m"
   ]
  },
  {
   "cell_type": "code",
   "execution_count": 66,
   "metadata": {},
   "outputs": [
    {
     "name": "stdout",
     "output_type": "stream",
     "text": [
      "p-value annotation legend:\n",
      "      ns: p <= 1.00e+00\n",
      "       *: 1.00e-02 < p <= 5.00e-02\n",
      "      **: 1.00e-03 < p <= 1.00e-02\n",
      "     ***: 1.00e-04 < p <= 1.00e-03\n",
      "    ****: p <= 1.00e-04\n",
      "\n",
      "-1 vs. 0.5: Mann-Whitney-Wilcoxon test two-sided, P_val:3.758e-27 U_stat=7.653e+09\n",
      "0.5 vs. 1: Mann-Whitney-Wilcoxon test two-sided, P_val:2.128e-06 U_stat=1.031e+09\n"
     ]
    },
    {
     "data": {
      "text/plain": [
       "[Text(0, 0, 'randomly selected \\ncombination'),\n",
       " Text(1, 0, 'randomly selected \\ncancer type'),\n",
       " Text(2, 0, 'clinically tested \\ncancer type')]"
      ]
     },
     "execution_count": 66,
     "metadata": {},
     "output_type": "execute_result"
    },
    {
     "data": {
      "image/png": "[encoded data removed]",
      "text/plain": [
       "<Figure size 432x288 with 1 Axes>"
      ]
     },
     "metadata": {
      "needs_background": "light"
     },
     "output_type": "display_data"
    }
   ],
   "source": [
    "x = \"score\"\n",
    "y = \"predicts_transynergy_liu\"\n",
    "order = [-1,0.5,1]\n",
    "\n",
    "ax = sns.boxplot(data=m,x='score',y='predicts_transynergy_liu',hue='score',order=order)\n",
    "sns.move_legend(ax, \"upper left\", bbox_to_anchor=(1, 1))\n",
    "\n",
    "pairs=[(-1,0.5),(0.5,1)]\n",
    "\n",
    "annotator = Annotator(ax, pairs, data=m, x=x, y=y, order=order)\n",
    "annotator.configure(test='Mann-Whitney', text_format='star', loc='outside')\n",
    "annotator.apply_and_annotate()\n",
    "ax.set(xlabel='', ylabel='Predicted Synergy score')\n",
    "ax.set_xticklabels([\"randomly selected \\ncombination\",\"randomly selected \\ncancer type\",\"clinically tested \\ncancer type\"])"
   ]
  },
  {
   "cell_type": "code",
   "execution_count": null,
   "metadata": {},
   "outputs": [],
   "source": []
  },
  {
   "cell_type": "code",
   "execution_count": 58,
   "metadata": {},
   "outputs": [
    {
     "data": {
      "text/plain": [
       "<matplotlib.axes._subplots.AxesSubplot at 0x7f9b50891110>"
      ]
     },
     "execution_count": 58,
     "metadata": {},
     "output_type": "execute_result"
    },
    {
     "data": {
      "image/png": "[encoded data removed]",
      "text/plain": [
       "<Figure size 432x288 with 1 Axes>"
      ]
     },
     "metadata": {
      "needs_background": "light"
     },
     "output_type": "display_data"
    }
   ],
   "source": [
    "sns.boxplot(data=m,x='_dummy',y='predicts_transynergy_liu',hue='score')"
   ]
  },
  {
   "cell_type": "code",
   "execution_count": null,
   "metadata": {},
   "outputs": [],
   "source": []
  },
  {
   "cell_type": "code",
   "execution_count": null,
   "metadata": {},
   "outputs": [],
   "source": []
  },
  {
   "cell_type": "code",
   "execution_count": null,
   "metadata": {},
   "outputs": [],
   "source": []
  },
  {
   "cell_type": "code",
   "execution_count": null,
   "metadata": {},
   "outputs": [],
   "source": []
  }
 ],
 "metadata": {
  "kernelspec": {
   "display_name": "Python 3 (ipykernel)",
   "language": "python",
   "name": "python3"
  },
  "language_info": {
   "codemirror_mode": {
    "name": "ipython",
    "version": 3
   },
   "file_extension": ".py",
   "mimetype": "text/x-python",
   "name": "python",
   "nbconvert_exporter": "python",
   "pygments_lexer": "ipython3",
   "version": "3.7.4"
  }
 },
 "nbformat": 4,
 "nbformat_minor": 2
}
